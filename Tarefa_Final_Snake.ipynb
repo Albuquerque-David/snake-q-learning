{
  "cells": [
    {
      "attachments": {},
      "cell_type": "markdown",
      "metadata": {
        "id": "QzwDcC1iAiaN"
      },
      "source": [
        "# DAVID RODRIGUES ALBUQUERQUE - Tarefa Final - Snake\n",
        "### Introdução ao Aprendizado de Máquina - 2023.1 - Ciência da Computação\n",
        "\n",
        "Feito por:\n",
        "\n",
        "## David Rodrigues Albuquerque - 120047390\n",
        "\n",
        "---"
      ]
    },
    {
      "cell_type": "code",
      "execution_count": 17,
      "metadata": {
        "colab": {
          "base_uri": "https://localhost:8080/"
        },
        "id": "NsytrJTZNS41",
        "outputId": "31a082a6-e4fc-44aa-b7f3-179026545896"
      },
      "outputs": [
        {
          "name": "stdout",
          "output_type": "stream",
          "text": [
            "Requirement already satisfied: pygame in c:\\users\\david\\appdata\\local\\packages\\pythonsoftwarefoundation.python.3.8_qbz5n2kfra8p0\\localcache\\local-packages\\python38\\site-packages (2.4.0)\n",
            "Note: you may need to restart the kernel to use updated packages.\n"
          ]
        },
        {
          "name": "stderr",
          "output_type": "stream",
          "text": [
            "WARNING: You are using pip version 21.1.1; however, version 23.1.2 is available.\n",
            "You should consider upgrading via the 'C:\\Users\\david\\AppData\\Local\\Microsoft\\WindowsApps\\PythonSoftwareFoundation.Python.3.8_qbz5n2kfra8p0\\python.exe -m pip install --upgrade pip' command.\n"
          ]
        }
      ],
      "source": [
        "%pip install pygame\n",
        "import random\n",
        "import numpy as np\n",
        "import pygame\n",
        "import sys"
      ]
    },
    {
      "cell_type": "code",
      "execution_count": 18,
      "metadata": {
        "id": "D4NB1uMyAd_y"
      },
      "outputs": [],
      "source": [
        "class Snake:\n",
        "    def __init__(self, width, height):\n",
        "        self.width = width\n",
        "        self.height = height\n",
        "        self.body = [(width // 2, height // 2)]\n",
        "        self.direction = 'up'\n",
        "        self.apple = self.generate_apple()\n",
        "\n",
        "    def generate_apple(self):\n",
        "        while True:\n",
        "            apple = (random.randint(0, self.width - 1),\n",
        "                     random.randint(0, self.height - 1))\n",
        "            if apple not in self.body:\n",
        "                return apple\n",
        "\n",
        "    def change_direction(self, direction):\n",
        "        if direction == 'up' and self.direction != 'down':\n",
        "            self.direction = 'up'\n",
        "        elif direction == 'down' and self.direction != 'up':\n",
        "            self.direction = 'down'\n",
        "        elif direction == 'left' and self.direction != 'right':\n",
        "            self.direction = 'left'\n",
        "        elif direction == 'right' and self.direction != 'left':\n",
        "            self.direction = 'right'\n",
        "\n",
        "    def move(self):\n",
        "        head = self.body[0]\n",
        "        if self.direction == 'up':\n",
        "            new_head = (head[0], (head[1] - 1))\n",
        "        elif self.direction == 'down':\n",
        "            new_head = (head[0], (head[1] + 1))\n",
        "        elif self.direction == 'left':\n",
        "            new_head = ((head[0] - 1), head[1])\n",
        "        elif self.direction == 'right':\n",
        "            new_head = ((head[0] + 1), head[1])\n",
        "\n",
        "        if (\n",
        "            new_head[0] < 0 or new_head[0] >= self.width or\n",
        "            new_head[1] < 0 or new_head[1] >= self.height or\n",
        "            new_head in self.body\n",
        "        ):\n",
        "            return True\n",
        "\n",
        "        self.body.insert(0, new_head)\n",
        "        if new_head == self.apple:\n",
        "            self.apple = self.generate_apple()\n",
        "        else:\n",
        "            self.body.pop()\n",
        "\n",
        "    def check_collision(self):\n",
        "        head = self.body[0]\n",
        "        if (\n",
        "            head[0] < 0 or head[0] >= self.width or\n",
        "            head[1] < 0 or head[1] >= self.height or\n",
        "            head in self.body[1:]\n",
        "        ):\n",
        "            return True\n",
        "        return False\n"
      ]
    },
    {
      "cell_type": "code",
      "execution_count": 19,
      "metadata": {
        "id": "mL81T5iVAlNx"
      },
      "outputs": [],
      "source": [
        "class Game:\n",
        "    def __init__(self, width, height):\n",
        "        self.width = width\n",
        "        self.height = height\n",
        "        self.snake = Snake(width, height)\n",
        "        self.game_over = False\n",
        "\n",
        "        pygame.init()\n",
        "        self.clock = pygame.time.Clock()\n",
        "        self.window = pygame.display.set_mode((width * 20, height * 20))\n",
        "        pygame.display.set_caption('Snake Game')\n",
        "\n",
        "    def run(self):\n",
        "        while True:\n",
        "            # Define a taxa de atualização do jogo (frames por segundo)\n",
        "            self.clock.tick(15)\n",
        "            self.handle_events()\n",
        "            self.update()\n",
        "            self.render()\n",
        "            if self.game_over:\n",
        "                self.show_game_over_menu()\n",
        "\n",
        "    def handle_events(self):\n",
        "        for event in pygame.event.get():\n",
        "            if event.type == pygame.QUIT:\n",
        "                self.quit()\n",
        "            elif event.type == pygame.KEYDOWN:\n",
        "                if event.key == pygame.K_UP:\n",
        "                    self.snake.change_direction('up')\n",
        "                elif event.key == pygame.K_DOWN:\n",
        "                    self.snake.change_direction('down')\n",
        "                elif event.key == pygame.K_LEFT:\n",
        "                    self.snake.change_direction('left')\n",
        "                elif event.key == pygame.K_RIGHT:\n",
        "                    self.snake.change_direction('right')\n",
        "\n",
        "    def update(self):\n",
        "        if self.snake.move():\n",
        "            self.game_over = True\n",
        "\n",
        "    def render(self):\n",
        "        self.window.fill((0, 0, 0))  # Preenche a janela com a cor preta\n",
        "        for segment in self.snake.body:\n",
        "            # Desenha cada segmento da cobra\n",
        "            pygame.draw.rect(self.window, (255, 255, 255),\n",
        "                             (segment[0] * 20, segment[1] * 20, 20, 20))\n",
        "        pygame.draw.rect(self.window, (255, 0, 0), (\n",
        "            self.snake.apple[0] * 20, self.snake.apple[1] * 20, 20, 20))  # Desenha a maçã\n",
        "        pygame.display.flip()  # Atualiza a janela\n",
        "\n",
        "    def show_game_over_menu(self):\n",
        "        font = pygame.font.SysFont(None, 36)\n",
        "        text = font.render('Game Over!', True, (255, 0, 0))\n",
        "        self.window.blit(text, (self.width * 10 - text.get_width() //\n",
        "                         2, self.height * 10 - text.get_height() // 2))\n",
        "        text = font.render('Press R to restart or Q to quit',\n",
        "                           True, (255, 255, 255))\n",
        "        self.window.blit(text, (self.width * 10 - text.get_width() //\n",
        "                         2, self.height * 10 + text.get_height() // 2 + 10))\n",
        "        pygame.display.flip()\n",
        "\n",
        "        while True:\n",
        "            for event in pygame.event.get():\n",
        "                if event.type == pygame.QUIT:\n",
        "                    self.quit()\n",
        "                elif event.type == pygame.KEYDOWN:\n",
        "                    if event.key == pygame.K_r:\n",
        "                        self.reset()\n",
        "                        return\n",
        "                    elif event.key == pygame.K_q:\n",
        "                        self.quit()\n",
        "\n",
        "    def reset(self):\n",
        "        self.snake = Snake(self.width, self.height)\n",
        "        self.game_over = False\n",
        "\n",
        "    def quit(self):\n",
        "        pygame.quit()\n",
        "        sys.exit()\n"
      ]
    },
    {
      "cell_type": "code",
      "execution_count": 20,
      "metadata": {
        "colab": {
          "base_uri": "https://localhost:8080/",
          "height": 148
        },
        "id": "FPxhNRmGAneC",
        "outputId": "0254513b-3e4f-4f45-eb40-c795b4c1b472"
      },
      "outputs": [
        {
          "ename": "SystemExit",
          "evalue": "",
          "output_type": "error",
          "traceback": [
            "An exception has occurred, use %tb to see the full traceback.\n",
            "\u001b[1;31mSystemExit\u001b[0m\n"
          ]
        }
      ],
      "source": [
        "# Executando o jogo\n",
        "game = Game(30, 30)  # Define a largura e altura do grid do jogo\n",
        "\n",
        "while True:\n",
        "    game.run()\n",
        "    if not game.game_over:\n",
        "        break\n"
      ]
    },
    {
      "attachments": {},
      "cell_type": "markdown",
      "metadata": {
        "id": "Qkyu5FNMOXra"
      },
      "source": [
        "# Objetivo\n"
      ]
    },
    {
      "attachments": {},
      "cell_type": "markdown",
      "metadata": {
        "id": "NccfoZbjNFCQ"
      },
      "source": [
        "# Referências Bibliográficas\n"
      ]
    }
  ],
  "metadata": {
    "colab": {
      "provenance": []
    },
    "kernelspec": {
      "display_name": "Python 3",
      "name": "python3"
    },
    "language_info": {
      "codemirror_mode": {
        "name": "ipython",
        "version": 3
      },
      "file_extension": ".py",
      "mimetype": "text/x-python",
      "name": "python",
      "nbconvert_exporter": "python",
      "pygments_lexer": "ipython3",
      "version": "3.8.10"
    }
  },
  "nbformat": 4,
  "nbformat_minor": 0
}
